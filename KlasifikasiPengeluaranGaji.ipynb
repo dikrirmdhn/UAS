{
  "cells": [
    {
      "cell_type": "markdown",
      "source": [
        "# **Pengumpulan Data**"
      ],
      "metadata": {
        "id": "P-SGO397tUmh"
      }
    },
    {
      "cell_type": "code",
      "execution_count": null,
      "metadata": {
        "id": "oVWa6j7kIUbA"
      },
      "outputs": [],
      "source": [
        "#import Library yang akan digunakan\n",
        "#%matplotlib inline\n",
        "import pandas as pd\n",
        "import matplotlib.pyplot as plt\n",
        "import numpy as np\n",
        "from sklearn.cluster import KMeans\n",
        "from sklearn.linear_model import LinearRegression\n",
        "from sklearn.model_selection import train_test_split\n",
        "from sklearn.metrics import mean_squared_error, mean_absolute_error, r2_score\n",
        "from sklearn.metrics import accuracy_score\n"
      ]
    },
    {
      "cell_type": "code",
      "execution_count": null,
      "metadata": {
        "colab": {
          "base_uri": "https://localhost:8080/"
        },
        "id": "o_bXePGKIbH5",
        "outputId": "8c94f90f-0308-406b-8476-e3fb73455fe7"
      },
      "outputs": [
        {
          "output_type": "execute_result",
          "data": {
            "text/plain": [
              "Index(['Gaji', 'Pengeluaran'], dtype='object')"
            ]
          },
          "metadata": {},
          "execution_count": 4
        }
      ],
      "source": [
        "#Mentapkan data dan memanggil dataset\n",
        "dataset = pd.read_csv('konsumen.csv')\n",
        "dataset.keys()\n"
      ]
    },
    {
      "cell_type": "markdown",
      "source": [
        "# **Data Proparotion**"
      ],
      "metadata": {
        "id": "Do_2E5wI0unq"
      }
    },
    {
      "cell_type": "code",
      "execution_count": null,
      "metadata": {
        "colab": {
          "base_uri": "https://localhost:8080/",
          "height": 206
        },
        "id": "s0z5SPlkIgZY",
        "outputId": "3be4297e-b9fb-4a8e-bcd9-2e8d37d2494f"
      },
      "outputs": [
        {
          "output_type": "execute_result",
          "data": {
            "text/plain": [
              "   Gaji  Pengeluaran\n",
              "0  2500         1750\n",
              "1  3800         4200\n",
              "2  3900         3800\n",
              "3  4350         5500\n",
              "4  4400         3200"
            ],
            "text/html": [
              "\n",
              "  <div id=\"df-16c8e3de-d135-44af-8871-52db8eb9fd20\">\n",
              "    <div class=\"colab-df-container\">\n",
              "      <div>\n",
              "<style scoped>\n",
              "    .dataframe tbody tr th:only-of-type {\n",
              "        vertical-align: middle;\n",
              "    }\n",
              "\n",
              "    .dataframe tbody tr th {\n",
              "        vertical-align: top;\n",
              "    }\n",
              "\n",
              "    .dataframe thead th {\n",
              "        text-align: right;\n",
              "    }\n",
              "</style>\n",
              "<table border=\"1\" class=\"dataframe\">\n",
              "  <thead>\n",
              "    <tr style=\"text-align: right;\">\n",
              "      <th></th>\n",
              "      <th>Gaji</th>\n",
              "      <th>Pengeluaran</th>\n",
              "    </tr>\n",
              "  </thead>\n",
              "  <tbody>\n",
              "    <tr>\n",
              "      <th>0</th>\n",
              "      <td>2500</td>\n",
              "      <td>1750</td>\n",
              "    </tr>\n",
              "    <tr>\n",
              "      <th>1</th>\n",
              "      <td>3800</td>\n",
              "      <td>4200</td>\n",
              "    </tr>\n",
              "    <tr>\n",
              "      <th>2</th>\n",
              "      <td>3900</td>\n",
              "      <td>3800</td>\n",
              "    </tr>\n",
              "    <tr>\n",
              "      <th>3</th>\n",
              "      <td>4350</td>\n",
              "      <td>5500</td>\n",
              "    </tr>\n",
              "    <tr>\n",
              "      <th>4</th>\n",
              "      <td>4400</td>\n",
              "      <td>3200</td>\n",
              "    </tr>\n",
              "  </tbody>\n",
              "</table>\n",
              "</div>\n",
              "      <button class=\"colab-df-convert\" onclick=\"convertToInteractive('df-16c8e3de-d135-44af-8871-52db8eb9fd20')\"\n",
              "              title=\"Convert this dataframe to an interactive table.\"\n",
              "              style=\"display:none;\">\n",
              "        \n",
              "  <svg xmlns=\"http://www.w3.org/2000/svg\" height=\"24px\"viewBox=\"0 0 24 24\"\n",
              "       width=\"24px\">\n",
              "    <path d=\"M0 0h24v24H0V0z\" fill=\"none\"/>\n",
              "    <path d=\"M18.56 5.44l.94 2.06.94-2.06 2.06-.94-2.06-.94-.94-2.06-.94 2.06-2.06.94zm-11 1L8.5 8.5l.94-2.06 2.06-.94-2.06-.94L8.5 2.5l-.94 2.06-2.06.94zm10 10l.94 2.06.94-2.06 2.06-.94-2.06-.94-.94-2.06-.94 2.06-2.06.94z\"/><path d=\"M17.41 7.96l-1.37-1.37c-.4-.4-.92-.59-1.43-.59-.52 0-1.04.2-1.43.59L10.3 9.45l-7.72 7.72c-.78.78-.78 2.05 0 2.83L4 21.41c.39.39.9.59 1.41.59.51 0 1.02-.2 1.41-.59l7.78-7.78 2.81-2.81c.8-.78.8-2.07 0-2.86zM5.41 20L4 18.59l7.72-7.72 1.47 1.35L5.41 20z\"/>\n",
              "  </svg>\n",
              "      </button>\n",
              "      \n",
              "  <style>\n",
              "    .colab-df-container {\n",
              "      display:flex;\n",
              "      flex-wrap:wrap;\n",
              "      gap: 12px;\n",
              "    }\n",
              "\n",
              "    .colab-df-convert {\n",
              "      background-color: #E8F0FE;\n",
              "      border: none;\n",
              "      border-radius: 50%;\n",
              "      cursor: pointer;\n",
              "      display: none;\n",
              "      fill: #1967D2;\n",
              "      height: 32px;\n",
              "      padding: 0 0 0 0;\n",
              "      width: 32px;\n",
              "    }\n",
              "\n",
              "    .colab-df-convert:hover {\n",
              "      background-color: #E2EBFA;\n",
              "      box-shadow: 0px 1px 2px rgba(60, 64, 67, 0.3), 0px 1px 3px 1px rgba(60, 64, 67, 0.15);\n",
              "      fill: #174EA6;\n",
              "    }\n",
              "\n",
              "    [theme=dark] .colab-df-convert {\n",
              "      background-color: #3B4455;\n",
              "      fill: #D2E3FC;\n",
              "    }\n",
              "\n",
              "    [theme=dark] .colab-df-convert:hover {\n",
              "      background-color: #434B5C;\n",
              "      box-shadow: 0px 1px 3px 1px rgba(0, 0, 0, 0.15);\n",
              "      filter: drop-shadow(0px 1px 2px rgba(0, 0, 0, 0.3));\n",
              "      fill: #FFFFFF;\n",
              "    }\n",
              "  </style>\n",
              "\n",
              "      <script>\n",
              "        const buttonEl =\n",
              "          document.querySelector('#df-16c8e3de-d135-44af-8871-52db8eb9fd20 button.colab-df-convert');\n",
              "        buttonEl.style.display =\n",
              "          google.colab.kernel.accessAllowed ? 'block' : 'none';\n",
              "\n",
              "        async function convertToInteractive(key) {\n",
              "          const element = document.querySelector('#df-16c8e3de-d135-44af-8871-52db8eb9fd20');\n",
              "          const dataTable =\n",
              "            await google.colab.kernel.invokeFunction('convertToInteractive',\n",
              "                                                     [key], {});\n",
              "          if (!dataTable) return;\n",
              "\n",
              "          const docLinkHtml = 'Like what you see? Visit the ' +\n",
              "            '<a target=\"_blank\" href=https://colab.research.google.com/notebooks/data_table.ipynb>data table notebook</a>'\n",
              "            + ' to learn more about interactive tables.';\n",
              "          element.innerHTML = '';\n",
              "          dataTable['output_type'] = 'display_data';\n",
              "          await google.colab.output.renderOutput(dataTable, element);\n",
              "          const docLink = document.createElement('div');\n",
              "          docLink.innerHTML = docLinkHtml;\n",
              "          element.appendChild(docLink);\n",
              "        }\n",
              "      </script>\n",
              "    </div>\n",
              "  </div>\n",
              "  "
            ]
          },
          "metadata": {},
          "execution_count": 5
        }
      ],
      "source": [
        "dataku = pd.DataFrame(dataset)\n",
        "dataku.head()\n"
      ]
    },
    {
      "cell_type": "code",
      "source": [
        "# Menampilkan dataframe\n",
        "print(dataku)"
      ],
      "metadata": {
        "colab": {
          "base_uri": "https://localhost:8080/"
        },
        "id": "uljTl2Yt0iiv",
        "outputId": "da786067-e420-4019-ff66-7b4ca97a1b18"
      },
      "execution_count": null,
      "outputs": [
        {
          "output_type": "stream",
          "name": "stdout",
          "text": [
            "    Gaji  Pengeluaran\n",
            "0   2500         1750\n",
            "1   3800         4200\n",
            "2   3900         3800\n",
            "3   4350         5500\n",
            "4   4400         3200\n",
            "5   5500         5450\n",
            "6   5600         5950\n",
            "7   5750         4100\n",
            "8   6850         6050\n",
            "9   6900         8500\n",
            "10  7250         9500\n",
            "11  7350         6050\n",
            "12  7500         8500\n",
            "13  7800         9500\n",
            "14  8200         8300\n",
            "15  8500         6500\n",
            "16  8550         8400\n",
            "17  8750         6000\n",
            "18  9100        10500\n",
            "19  9100         8500\n"
          ]
        }
      ]
    },
    {
      "cell_type": "code",
      "source": [
        "#mengetahui jumlah klom dan baris\n",
        "print(dataku.shape)"
      ],
      "metadata": {
        "id": "ioGGwqVUAsB9",
        "outputId": "2c781057-f193-4530-9e19-aeedf5fe4fa4",
        "colab": {
          "base_uri": "https://localhost:8080/"
        }
      },
      "execution_count": null,
      "outputs": [
        {
          "output_type": "stream",
          "name": "stdout",
          "text": [
            "(20, 2)\n"
          ]
        }
      ]
    },
    {
      "cell_type": "code",
      "source": [
        "print(dataku.describe)"
      ],
      "metadata": {
        "id": "rCTEPB1rA29k",
        "outputId": "f953fec0-dab7-4b9c-ff05-b6794d877bd8",
        "colab": {
          "base_uri": "https://localhost:8080/"
        }
      },
      "execution_count": null,
      "outputs": [
        {
          "output_type": "stream",
          "name": "stdout",
          "text": [
            "<bound method NDFrame.describe of     Gaji  Pengeluaran\n",
            "0   2500         1750\n",
            "1   3800         4200\n",
            "2   3900         3800\n",
            "3   4350         5500\n",
            "4   4400         3200\n",
            "5   5500         5450\n",
            "6   5600         5950\n",
            "7   5750         4100\n",
            "8   6850         6050\n",
            "9   6900         8500\n",
            "10  7250         9500\n",
            "11  7350         6050\n",
            "12  7500         8500\n",
            "13  7800         9500\n",
            "14  8200         8300\n",
            "15  8500         6500\n",
            "16  8550         8400\n",
            "17  8750         6000\n",
            "18  9100        10500\n",
            "19  9100         8500>\n"
          ]
        }
      ]
    },
    {
      "cell_type": "code",
      "execution_count": null,
      "metadata": {
        "colab": {
          "base_uri": "https://localhost:8080/"
        },
        "id": "MS9xT0Q4IkCY",
        "outputId": "ca9070cf-9cf1-4739-89b9-f1825a7fe6b7"
      },
      "outputs": [
        {
          "output_type": "stream",
          "name": "stdout",
          "text": [
            "[[ 2500  1750]\n",
            " [ 3800  4200]\n",
            " [ 3900  3800]\n",
            " [ 4350  5500]\n",
            " [ 4400  3200]\n",
            " [ 5500  5450]\n",
            " [ 5600  5950]\n",
            " [ 5750  4100]\n",
            " [ 6850  6050]\n",
            " [ 6900  8500]\n",
            " [ 7250  9500]\n",
            " [ 7350  6050]\n",
            " [ 7500  8500]\n",
            " [ 7800  9500]\n",
            " [ 8200  8300]\n",
            " [ 8500  6500]\n",
            " [ 8550  8400]\n",
            " [ 8750  6000]\n",
            " [ 9100 10500]\n",
            " [ 9100  8500]]\n"
          ]
        }
      ],
      "source": [
        "#konversi ke data array\n",
        "X = np.asarray(dataset)\n",
        "print(X)\n"
      ]
    },
    {
      "cell_type": "markdown",
      "source": [
        "# **Modelling dan Training**"
      ],
      "metadata": {
        "id": "AjiosvBZ1eWE"
      }
    },
    {
      "cell_type": "code",
      "source": [
        "# Menentukan fitur dan target\n",
        "X = dataku[['Gaji']]\n",
        "y = dataku['Pengeluaran']"
      ],
      "metadata": {
        "id": "EGCM6azk1tX_"
      },
      "execution_count": null,
      "outputs": []
    },
    {
      "cell_type": "code",
      "source": [
        "# Membuat objek model Linear Regression\n",
        "model = LinearRegression()\n",
        "\n",
        "# Melakukan training model\n",
        "model.fit(X, y)"
      ],
      "metadata": {
        "colab": {
          "base_uri": "https://localhost:8080/",
          "height": 75
        },
        "id": "ryWty6me25Y4",
        "outputId": "4370c405-c3f7-45bc-ba4d-f6467587b75e"
      },
      "execution_count": null,
      "outputs": [
        {
          "output_type": "execute_result",
          "data": {
            "text/plain": [
              "LinearRegression()"
            ],
            "text/html": [
              "<style>#sk-container-id-1 {color: black;background-color: white;}#sk-container-id-1 pre{padding: 0;}#sk-container-id-1 div.sk-toggleable {background-color: white;}#sk-container-id-1 label.sk-toggleable__label {cursor: pointer;display: block;width: 100%;margin-bottom: 0;padding: 0.3em;box-sizing: border-box;text-align: center;}#sk-container-id-1 label.sk-toggleable__label-arrow:before {content: \"▸\";float: left;margin-right: 0.25em;color: #696969;}#sk-container-id-1 label.sk-toggleable__label-arrow:hover:before {color: black;}#sk-container-id-1 div.sk-estimator:hover label.sk-toggleable__label-arrow:before {color: black;}#sk-container-id-1 div.sk-toggleable__content {max-height: 0;max-width: 0;overflow: hidden;text-align: left;background-color: #f0f8ff;}#sk-container-id-1 div.sk-toggleable__content pre {margin: 0.2em;color: black;border-radius: 0.25em;background-color: #f0f8ff;}#sk-container-id-1 input.sk-toggleable__control:checked~div.sk-toggleable__content {max-height: 200px;max-width: 100%;overflow: auto;}#sk-container-id-1 input.sk-toggleable__control:checked~label.sk-toggleable__label-arrow:before {content: \"▾\";}#sk-container-id-1 div.sk-estimator input.sk-toggleable__control:checked~label.sk-toggleable__label {background-color: #d4ebff;}#sk-container-id-1 div.sk-label input.sk-toggleable__control:checked~label.sk-toggleable__label {background-color: #d4ebff;}#sk-container-id-1 input.sk-hidden--visually {border: 0;clip: rect(1px 1px 1px 1px);clip: rect(1px, 1px, 1px, 1px);height: 1px;margin: -1px;overflow: hidden;padding: 0;position: absolute;width: 1px;}#sk-container-id-1 div.sk-estimator {font-family: monospace;background-color: #f0f8ff;border: 1px dotted black;border-radius: 0.25em;box-sizing: border-box;margin-bottom: 0.5em;}#sk-container-id-1 div.sk-estimator:hover {background-color: #d4ebff;}#sk-container-id-1 div.sk-parallel-item::after {content: \"\";width: 100%;border-bottom: 1px solid gray;flex-grow: 1;}#sk-container-id-1 div.sk-label:hover label.sk-toggleable__label {background-color: #d4ebff;}#sk-container-id-1 div.sk-serial::before {content: \"\";position: absolute;border-left: 1px solid gray;box-sizing: border-box;top: 0;bottom: 0;left: 50%;z-index: 0;}#sk-container-id-1 div.sk-serial {display: flex;flex-direction: column;align-items: center;background-color: white;padding-right: 0.2em;padding-left: 0.2em;position: relative;}#sk-container-id-1 div.sk-item {position: relative;z-index: 1;}#sk-container-id-1 div.sk-parallel {display: flex;align-items: stretch;justify-content: center;background-color: white;position: relative;}#sk-container-id-1 div.sk-item::before, #sk-container-id-1 div.sk-parallel-item::before {content: \"\";position: absolute;border-left: 1px solid gray;box-sizing: border-box;top: 0;bottom: 0;left: 50%;z-index: -1;}#sk-container-id-1 div.sk-parallel-item {display: flex;flex-direction: column;z-index: 1;position: relative;background-color: white;}#sk-container-id-1 div.sk-parallel-item:first-child::after {align-self: flex-end;width: 50%;}#sk-container-id-1 div.sk-parallel-item:last-child::after {align-self: flex-start;width: 50%;}#sk-container-id-1 div.sk-parallel-item:only-child::after {width: 0;}#sk-container-id-1 div.sk-dashed-wrapped {border: 1px dashed gray;margin: 0 0.4em 0.5em 0.4em;box-sizing: border-box;padding-bottom: 0.4em;background-color: white;}#sk-container-id-1 div.sk-label label {font-family: monospace;font-weight: bold;display: inline-block;line-height: 1.2em;}#sk-container-id-1 div.sk-label-container {text-align: center;}#sk-container-id-1 div.sk-container {/* jupyter's `normalize.less` sets `[hidden] { display: none; }` but bootstrap.min.css set `[hidden] { display: none !important; }` so we also need the `!important` here to be able to override the default hidden behavior on the sphinx rendered scikit-learn.org. See: https://github.com/scikit-learn/scikit-learn/issues/21755 */display: inline-block !important;position: relative;}#sk-container-id-1 div.sk-text-repr-fallback {display: none;}</style><div id=\"sk-container-id-1\" class=\"sk-top-container\"><div class=\"sk-text-repr-fallback\"><pre>LinearRegression()</pre><b>In a Jupyter environment, please rerun this cell to show the HTML representation or trust the notebook. <br />On GitHub, the HTML representation is unable to render, please try loading this page with nbviewer.org.</b></div><div class=\"sk-container\" hidden><div class=\"sk-item\"><div class=\"sk-estimator sk-toggleable\"><input class=\"sk-toggleable__control sk-hidden--visually\" id=\"sk-estimator-id-1\" type=\"checkbox\" checked><label for=\"sk-estimator-id-1\" class=\"sk-toggleable__label sk-toggleable__label-arrow\">LinearRegression</label><div class=\"sk-toggleable__content\"><pre>LinearRegression()</pre></div></div></div></div></div>"
            ]
          },
          "metadata": {},
          "execution_count": 11
        }
      ]
    },
    {
      "cell_type": "code",
      "source": [
        "# Mencetak koefisien dan intersep model\n",
        "print(\"Koefisien:\", model.coef_)\n",
        "print(\"Intersep:\", model.intercept_)"
      ],
      "metadata": {
        "colab": {
          "base_uri": "https://localhost:8080/"
        },
        "id": "T-rCFjEQ1dve",
        "outputId": "cc91eb0f-cdc6-4478-a3d7-6bf1bdc78b81"
      },
      "execution_count": null,
      "outputs": [
        {
          "output_type": "stream",
          "name": "stdout",
          "text": [
            "Koefisien: [0.98967461]\n",
            "Intersep: -2.033102385174061\n"
          ]
        }
      ]
    },
    {
      "cell_type": "code",
      "source": [
        "# Plot data points\n",
        "plt.scatter(X, y, color='blue', label='Data Points')\n"
      ],
      "metadata": {
        "id": "SY3lxtCHBYzD",
        "outputId": "b03bbdaa-1a13-41ab-a5ac-900985c9c4c2",
        "colab": {
          "base_uri": "https://localhost:8080/",
          "height": 447
        }
      },
      "execution_count": null,
      "outputs": [
        {
          "output_type": "execute_result",
          "data": {
            "text/plain": [
              "<matplotlib.collections.PathCollection at 0x7f7f052b23e0>"
            ]
          },
          "metadata": {},
          "execution_count": 13
        },
        {
          "output_type": "display_data",
          "data": {
            "text/plain": [
              "<Figure size 640x480 with 1 Axes>"
            ],
            "image/png": "[encoded data removed]"
          },
          "metadata": {}
        }
      ]
    },
    {
      "cell_type": "code",
      "source": [
        "# Plot regression line\n",
        "plt.plot(X, model.predict(X), color='red', label='Regression Line')"
      ],
      "metadata": {
        "id": "PBihHjEpBhzd",
        "outputId": "691b09fb-d3a8-4bc5-cc1d-cf3b22c5bc0c",
        "colab": {
          "base_uri": "https://localhost:8080/",
          "height": 447
        }
      },
      "execution_count": null,
      "outputs": [
        {
          "output_type": "execute_result",
          "data": {
            "text/plain": [
              "[<matplotlib.lines.Line2D at 0x7f7f031d2f50>]"
            ]
          },
          "metadata": {},
          "execution_count": 14
        },
        {
          "output_type": "display_data",
          "data": {
            "text/plain": [
              "<Figure size 640x480 with 1 Axes>"
            ],
            "image/png": "[encoded data removed]"
          },
          "metadata": {}
        }
      ]
    },
    {
      "cell_type": "code",
      "source": [
        "# Plot data points\n",
        "plt.scatter(X, y, color='blue', label='Data Points')\n",
        "\n",
        "# Plot regression line\n",
        "plt.plot(X, model.predict(X), color='red', label='Regression Line')\n",
        "\n",
        "# Label dan judul plot\n",
        "plt.xlabel('Gaji')\n",
        "plt.ylabel('Pengeluaran')\n",
        "plt.title('Linear Regression')\n",
        "\n",
        "# Menampilkan legenda\n",
        "plt.legend()\n",
        "\n",
        "# Menampilkan grafik\n",
        "plt.show()"
      ],
      "metadata": {
        "colab": {
          "base_uri": "https://localhost:8080/",
          "height": 472
        },
        "id": "vBP4HIH14MrD",
        "outputId": "763e64c8-2e75-48e2-b615-12ac2f28e54b"
      },
      "execution_count": null,
      "outputs": [
        {
          "output_type": "display_data",
          "data": {
            "text/plain": [
              "<Figure size 640x480 with 1 Axes>"
            ],
            "image/png": "[encoded data removed]"
          },
          "metadata": {}
        }
      ]
    },
    {
      "cell_type": "markdown",
      "source": [
        "# **Evaluasi**"
      ],
      "metadata": {
        "id": "_-PA3gvY4i-z"
      }
    },
    {
      "cell_type": "code",
      "source": [
        "# Melakukan prediksi\n",
        "y_pred = model.predict(X)"
      ],
      "metadata": {
        "id": "LG83PLhl6f2q"
      },
      "execution_count": null,
      "outputs": []
    },
    {
      "cell_type": "code",
      "source": [
        "# Menghitung mean squared error (MSE)\n",
        "mse = mean_squared_error(y, y_pred)\n",
        "print(\"Mean Squared Error (MSE):\", mse)"
      ],
      "metadata": {
        "colab": {
          "base_uri": "https://localhost:8080/"
        },
        "id": "jMv5q4wV6lfC",
        "outputId": "1f55db03-f6ce-4807-aabd-e37fd5df4541"
      },
      "execution_count": null,
      "outputs": [
        {
          "output_type": "stream",
          "name": "stdout",
          "text": [
            "Mean Squared Error (MSE): 1699698.8584926191\n"
          ]
        }
      ]
    },
    {
      "cell_type": "code",
      "source": [
        "# Menghitung R-squared score\n",
        "r2 = r2_score(y, y_pred)\n",
        "print(\"R-squared Score:\", r2)"
      ],
      "metadata": {
        "colab": {
          "base_uri": "https://localhost:8080/"
        },
        "id": "CO-avtLu6PMN",
        "outputId": "31bfa0cd-caf4-47fc-8d37-98e38cc0b14c"
      },
      "execution_count": null,
      "outputs": [
        {
          "output_type": "stream",
          "name": "stdout",
          "text": [
            "R-squared Score: 0.6843623542861564\n"
          ]
        }
      ]
    },
    {
      "cell_type": "markdown",
      "source": [
        "# **Akurasi**"
      ],
      "metadata": {
        "id": "Zcvotvuk6sCA"
      }
    },
    {
      "cell_type": "code",
      "source": [
        "# Contoh label prediksi\n",
        "predicted_labels = [0, 1, 1, 0, 1, 0, 0, 1, 0, 1, 0, 1]\n",
        "\n",
        "# Contoh label aktual\n",
        "actual_labels = [0, 1, 0, 1, 0, 1, 0, 1, 1, 0, 1, 0]\n",
        "\n",
        "# Menghitung akurasi\n",
        "accuracy = accuracy_score(actual_labels, predicted_labels)\n",
        "\n",
        "# Menampilkan akurasi\n",
        "print(\"Akurasi:\", accuracy)\n"
      ],
      "metadata": {
        "colab": {
          "base_uri": "https://localhost:8080/"
        },
        "id": "oX6RwqUHrerG",
        "outputId": "dabce57d-8ca2-41f5-b380-0e1ea82cd7ca"
      },
      "execution_count": null,
      "outputs": [
        {
          "output_type": "stream",
          "name": "stdout",
          "text": [
            "Akurasi: 0.3333333333333333\n"
          ]
        }
      ]
    }
  ],
  "metadata": {
    "colab": {
      "provenance": []
    },
    "kernelspec": {
      "display_name": "Python 3",
      "name": "python3"
    },
    "language_info": {
      "name": "python"
    }
  },
  "nbformat": 4,
  "nbformat_minor": 0
}